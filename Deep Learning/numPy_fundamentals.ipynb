{
 "cells": [
  {
   "cell_type": "code",
   "execution_count": 184,
   "id": "e722cf87-e12f-4858-b3be-db7d018dc153",
   "metadata": {},
   "outputs": [],
   "source": [
    "import numpy as np\n",
    "import random\n",
    "import matplotlib.pyplot as plt"
   ]
  },
  {
   "cell_type": "markdown",
   "id": "f6c04b4d-23c5-43f2-8294-a70c6e96a402",
   "metadata": {
    "jp-MarkdownHeadingCollapsed": true
   },
   "source": [
    "<h3>NumPy Array </h3>"
   ]
  },
  {
   "cell_type": "code",
   "execution_count": 51,
   "id": "201b92b6-9462-4bd8-a5ef-5a2418d5a05f",
   "metadata": {},
   "outputs": [
    {
     "data": {
      "text/plain": [
       "array([[1., 2., 0.],\n",
       "       [4., 0., 6.],\n",
       "       [7., 8., 9.]])"
      ]
     },
     "execution_count": 51,
     "metadata": {},
     "output_type": "execute_result"
    }
   ],
   "source": [
    "# Create an empty NumPy array\n",
    "empty_array = np.empty((3, 3))\n",
    "empty_array"
   ]
  },
  {
   "cell_type": "code",
   "execution_count": 52,
   "id": "3d8584c1-907f-4934-8d28-3150bb7d4369",
   "metadata": {},
   "outputs": [
    {
     "data": {
      "text/plain": [
       "array([[0., 0., 0.],\n",
       "       [0., 0., 0.],\n",
       "       [0., 0., 0.]])"
      ]
     },
     "execution_count": 52,
     "metadata": {},
     "output_type": "execute_result"
    }
   ],
   "source": [
    "# Create a NumPy array filled with zeros\n",
    "zeros_array = np.zeros((3, 3))\n",
    "zeros_array"
   ]
  },
  {
   "cell_type": "code",
   "execution_count": 53,
   "id": "9bae2993-83d3-4398-8d3b-c87620148823",
   "metadata": {},
   "outputs": [
    {
     "data": {
      "text/plain": [
       "array([[1., 1., 1.],\n",
       "       [1., 1., 1.],\n",
       "       [1., 1., 1.]])"
      ]
     },
     "execution_count": 53,
     "metadata": {},
     "output_type": "execute_result"
    }
   ],
   "source": [
    "# Create a NumPy array filled with ones\n",
    "ones_array = np.ones((3, 3))\n",
    "ones_array"
   ]
  },
  {
   "cell_type": "code",
   "execution_count": 54,
   "id": "8b1b1420-9ff7-4cb3-a1d5-43a642e7fae2",
   "metadata": {},
   "outputs": [
    {
     "data": {
      "text/plain": [
       "True"
      ]
     },
     "execution_count": 54,
     "metadata": {},
     "output_type": "execute_result"
    }
   ],
   "source": [
    "# Check whether a NumPy array contains a specified row\n",
    "specified_row = np.array([0, 0, 0])\n",
    "contains_row = np.any(np.all(zeros_array == specified_row, axis=1))\n",
    "contains_row"
   ]
  },
  {
   "cell_type": "code",
   "execution_count": 55,
   "id": "3110a911-8480-4d85-aa0e-e703e0d09e64",
   "metadata": {},
   "outputs": [
    {
     "data": {
      "text/plain": [
       "array([['1', '2', '3'],\n",
       "       ['4', 'a', '6'],\n",
       "       ['7', '8', '9']], dtype='<U21')"
      ]
     },
     "execution_count": 55,
     "metadata": {},
     "output_type": "execute_result"
    }
   ],
   "source": [
    "# Remove rows in a NumPy array that contain non-numeric values\n",
    "mixed_array = np.array([[1, 2, 3], [4, 'a', 6], [7, 8, 9]])\n",
    "numeric_rows = mixed_array[~np.any(np.isin(mixed_array, [str]), axis=1)]\n",
    "numeric_rows"
   ]
  },
  {
   "cell_type": "code",
   "execution_count": 56,
   "id": "1a3c2acd-c08e-444b-8777-cef2bbb42194",
   "metadata": {},
   "outputs": [
    {
     "data": {
      "text/plain": [
       "array([1, 2, 3])"
      ]
     },
     "execution_count": 56,
     "metadata": {},
     "output_type": "execute_result"
    }
   ],
   "source": [
    "# Remove single-dimensional entries from the shape of an array\n",
    "single_dim_array = np.array([[[1, 2, 3]]])\n",
    "reshaped_array = np.squeeze(single_dim_array)\n",
    "reshaped_array"
   ]
  },
  {
   "cell_type": "code",
   "execution_count": 57,
   "id": "12e62cef-8813-466c-969b-7c9e8134c312",
   "metadata": {},
   "outputs": [
    {
     "data": {
      "text/plain": [
       "7"
      ]
     },
     "execution_count": 57,
     "metadata": {},
     "output_type": "execute_result"
    }
   ],
   "source": [
    "# Find the number of occurrences of a sequence in a NumPy array\n",
    "sequence_array = np.array([1, 2, 3, 1, 2, 3, 1, 2, 3])\n",
    "sequence_count = np.count_nonzero(np.correlate(sequence_array, [1, 2, 3], mode='valid'))\n",
    "sequence_count"
   ]
  },
  {
   "cell_type": "code",
   "execution_count": 58,
   "id": "ebd8faaf-51c6-4a21-97bc-fc6957e17830",
   "metadata": {},
   "outputs": [
    {
     "data": {
      "text/plain": [
       "1"
      ]
     },
     "execution_count": 58,
     "metadata": {},
     "output_type": "execute_result"
    }
   ],
   "source": [
    "# Find the most frequent value in a NumPy array\n",
    "values, counts = np.unique(sequence_array, return_counts=True)\n",
    "most_frequent_value = values[np.argmax(counts)]\n",
    "most_frequent_value"
   ]
  },
  {
   "cell_type": "code",
   "execution_count": 59,
   "id": "df43f5c2-f396-4e73-98e6-c6e3b7cf28dc",
   "metadata": {},
   "outputs": [
    {
     "data": {
      "text/plain": [
       "array([[1, 2, 3],\n",
       "       [4, 5, 6],\n",
       "       [7, 8, 9]])"
      ]
     },
     "execution_count": 59,
     "metadata": {},
     "output_type": "execute_result"
    }
   ],
   "source": [
    "# Combining a one and a two-dimensional NumPy Array\n",
    "one_dim_array = np.array([1, 2, 3])\n",
    "two_dim_array = np.array([[4, 5, 6], [7, 8, 9]])\n",
    "combined_array = np.vstack((one_dim_array, two_dim_array))\n",
    "combined_array"
   ]
  },
  {
   "cell_type": "code",
   "execution_count": 60,
   "id": "c5560800-5a57-4d9f-81fc-ed4d7b1ae958",
   "metadata": {},
   "outputs": [
    {
     "data": {
      "text/plain": [
       "array([[1, 3],\n",
       "       [1, 4],\n",
       "       [2, 3],\n",
       "       [2, 4]])"
      ]
     },
     "execution_count": 60,
     "metadata": {},
     "output_type": "execute_result"
    }
   ],
   "source": [
    "# Build an array of all combinations of two NumPy arrays\n",
    "array1 = np.array([1, 2])\n",
    "array2 = np.array([3, 4])\n",
    "combinations = np.array(np.meshgrid(array1, array2)).T.reshape(-1, 2)\n",
    "combinations"
   ]
  },
  {
   "cell_type": "code",
   "execution_count": 61,
   "id": "58b6fad5-3e23-49e8-bb99-bcf8c7b2804a",
   "metadata": {},
   "outputs": [
    {
     "data": {
      "text/plain": [
       "array([[1., 1., 1., 1., 1.],\n",
       "       [1., 0., 0., 0., 1.],\n",
       "       [1., 0., 0., 0., 1.],\n",
       "       [1., 0., 0., 0., 1.],\n",
       "       [1., 1., 1., 1., 1.]])"
      ]
     },
     "execution_count": 61,
     "metadata": {},
     "output_type": "execute_result"
    }
   ],
   "source": [
    "# Add a border around a NumPy array\n",
    "bordered_array = np.pad(zeros_array, pad_width=1, mode='constant', constant_values=1)\n",
    "bordered_array"
   ]
  },
  {
   "cell_type": "code",
   "execution_count": 62,
   "id": "66b13cfc-5f0e-477f-b80a-78e18aec0ecc",
   "metadata": {},
   "outputs": [
    {
     "data": {
      "text/plain": [
       "False"
      ]
     },
     "execution_count": 62,
     "metadata": {},
     "output_type": "execute_result"
    }
   ],
   "source": [
    "# Compare two NumPy arrays\n",
    "array_a = np.array([1, 2, 3])\n",
    "array_b = np.array([1, 2, 4])\n",
    "comparison_result = np.array_equal(array_a, array_b)\n",
    "comparison_result"
   ]
  },
  {
   "cell_type": "code",
   "execution_count": 63,
   "id": "40696090-079f-4a0f-a2fc-19a3841d717c",
   "metadata": {},
   "outputs": [
    {
     "data": {
      "text/plain": [
       "array([False,  True, False])"
      ]
     },
     "execution_count": 63,
     "metadata": {},
     "output_type": "execute_result"
    }
   ],
   "source": [
    "# Check whether specified values are present in a NumPy array\n",
    "specified_values = np.array([2, 5])\n",
    "values_present = np.isin(array_a, specified_values)\n",
    "values_present"
   ]
  },
  {
   "cell_type": "code",
   "execution_count": 64,
   "id": "f88221c5-e9ac-4571-ba82-fd263910359e",
   "metadata": {},
   "outputs": [
    {
     "data": {
      "text/plain": [
       "array([[ 0,  4,  8],\n",
       "       [ 9, 13, 17],\n",
       "       [18, 22, 26]])"
      ]
     },
     "execution_count": 64,
     "metadata": {},
     "output_type": "execute_result"
    }
   ],
   "source": [
    "# Get all 2D diagonals of a 3D NumPy array\n",
    "array_3d = np.arange(27).reshape(3, 3, 3)\n",
    "diagonals_2d = np.diagonal(array_3d, axis1=1, axis2=2)\n",
    "diagonals_2d"
   ]
  },
  {
   "cell_type": "code",
   "execution_count": 65,
   "id": "17ede5f6-7d8f-405e-a574-476777909f7c",
   "metadata": {},
   "outputs": [
    {
     "data": {
      "text/plain": [
       "array([1, 2, 3, 4, 5, 6])"
      ]
     },
     "execution_count": 65,
     "metadata": {},
     "output_type": "execute_result"
    }
   ],
   "source": [
    "# Flatten a 2D NumPy array into a 1D array\n",
    "array_2d = np.array([[1, 2, 3], [4, 5, 6]])\n",
    "flattened_array_1d = array_2d.flatten()\n",
    "flattened_array_1d"
   ]
  },
  {
   "cell_type": "code",
   "execution_count": 66,
   "id": "9a997f77-b5fd-4c08-870e-1f9ecda50cf6",
   "metadata": {},
   "outputs": [
    {
     "data": {
      "text/plain": [
       "array([[[ 0, 12],\n",
       "        [ 1, 13],\n",
       "        [ 2, 14],\n",
       "        [ 3, 15]],\n",
       "\n",
       "       [[ 4, 16],\n",
       "        [ 5, 17],\n",
       "        [ 6, 18],\n",
       "        [ 7, 19]],\n",
       "\n",
       "       [[ 8, 20],\n",
       "        [ 9, 21],\n",
       "        [10, 22],\n",
       "        [11, 23]]])"
      ]
     },
     "execution_count": 66,
     "metadata": {},
     "output_type": "execute_result"
    }
   ],
   "source": [
    "# Move axes of an array to new positions\n",
    "array_to_move_axes = np.arange(24).reshape(2, 3, 4)\n",
    "moved_axes_array = np.moveaxis(array_to_move_axes, 0, -1)\n",
    "moved_axes_array"
   ]
  },
  {
   "cell_type": "code",
   "execution_count": 67,
   "id": "13220949-41c7-44b9-98f1-34a4d071904c",
   "metadata": {},
   "outputs": [
    {
     "data": {
      "text/plain": [
       "array([[[ 0, 12],\n",
       "        [ 4, 16],\n",
       "        [ 8, 20]],\n",
       "\n",
       "       [[ 1, 13],\n",
       "        [ 5, 17],\n",
       "        [ 9, 21]],\n",
       "\n",
       "       [[ 2, 14],\n",
       "        [ 6, 18],\n",
       "        [10, 22]],\n",
       "\n",
       "       [[ 3, 15],\n",
       "        [ 7, 19],\n",
       "        [11, 23]]])"
      ]
     },
     "execution_count": 67,
     "metadata": {},
     "output_type": "execute_result"
    }
   ],
   "source": [
    "# Interchange two axes of an array\n",
    "array_to_interchange_axes = np.arange(24).reshape(2, 3, 4)\n",
    "interchanged_axes_array = np.swapaxes(array_to_interchange_axes, 0, 2)\n",
    "interchanged_axes_array"
   ]
  },
  {
   "cell_type": "code",
   "execution_count": 68,
   "id": "a57a79bd-8b9f-4a4d-9bb8-def16f62d084",
   "metadata": {},
   "outputs": [
    {
     "data": {
      "text/plain": [
       "array([ 0.,  1.,  1.,  2.,  3.,  5.,  8., 13., 21., 34.])"
      ]
     },
     "execution_count": 68,
     "metadata": {},
     "output_type": "execute_result"
    }
   ],
   "source": [
    "# Fibonacci Series using Binet Formula\n",
    "n = 10\n",
    "phi = (1 + np.sqrt(5)) / 2\n",
    "fibonacci_series = np.rint((phi**np.arange(n)) / np.sqrt(5))\n",
    "fibonacci_series"
   ]
  },
  {
   "cell_type": "code",
   "execution_count": 69,
   "id": "b0beddd5-29ff-4bf5-9145-fb6e35aff015",
   "metadata": {},
   "outputs": [
    {
     "data": {
      "text/plain": [
       "6"
      ]
     },
     "execution_count": 69,
     "metadata": {},
     "output_type": "execute_result"
    }
   ],
   "source": [
    "# Counts the number of non-zero values in the array\n",
    "non_zero_count = np.count_nonzero(array_2d)\n",
    "non_zero_count"
   ]
  },
  {
   "cell_type": "code",
   "execution_count": 70,
   "id": "97cf16bf-ef9a-4b16-8d25-94be462726c5",
   "metadata": {},
   "outputs": [
    {
     "data": {
      "text/plain": [
       "3"
      ]
     },
     "execution_count": 70,
     "metadata": {},
     "output_type": "execute_result"
    }
   ],
   "source": [
    "# Count the number of elements along a given axis\n",
    "elements_count_along_axis = array_2d.shape[1]\n",
    "elements_count_along_axis"
   ]
  },
  {
   "cell_type": "code",
   "execution_count": 71,
   "id": "282e2509-4018-4857-b38d-85e996a3a739",
   "metadata": {},
   "outputs": [
    {
     "data": {
      "text/plain": [
       "array([1, 2, 3])"
      ]
     },
     "execution_count": 71,
     "metadata": {},
     "output_type": "execute_result"
    }
   ],
   "source": [
    "# Trim the leading and/or trailing zeros from a 1-D array\n",
    "array_with_zeros = np.array([0, 0, 1, 2, 3, 0, 0])\n",
    "trimmed_array = np.trim_zeros(array_with_zeros)\n",
    "trimmed_array"
   ]
  },
  {
   "cell_type": "code",
   "execution_count": 72,
   "id": "a0b5842e-43d2-4c85-b18c-9ca23f5f6071",
   "metadata": {},
   "outputs": [
    {
     "data": {
      "text/plain": [
       "array([1., 2., 3.])"
      ]
     },
     "execution_count": 72,
     "metadata": {},
     "output_type": "execute_result"
    }
   ],
   "source": [
    "# Change data type of given NumPy array\n",
    "array_to_change_dtype = np.array([1, 2, 3], dtype=np.int32)\n",
    "array_changed_dtype = array_to_change_dtype.astype(np.float64)\n",
    "array_changed_dtype"
   ]
  },
  {
   "cell_type": "code",
   "execution_count": 73,
   "id": "936344e6-44ab-4193-9ff5-3554b318ca7b",
   "metadata": {},
   "outputs": [
    {
     "data": {
      "text/plain": [
       "array([5, 4, 3, 2, 1])"
      ]
     },
     "execution_count": 73,
     "metadata": {},
     "output_type": "execute_result"
    }
   ],
   "source": [
    "# Reverse a NumPy array\n",
    "array_to_reverse = np.array([1, 2, 3, 4, 5])\n",
    "reversed_array = np.flip(array_to_reverse)\n",
    "reversed_array"
   ]
  },
  {
   "cell_type": "code",
   "execution_count": 74,
   "id": "03682892-49a1-4ffb-91ac-bce46eba1a7e",
   "metadata": {},
   "outputs": [
    {
     "data": {
      "text/plain": [
       "False"
      ]
     },
     "execution_count": 74,
     "metadata": {},
     "output_type": "execute_result"
    }
   ],
   "source": [
    "# Make a NumPy array read-only\n",
    "read_only_array = np.arange(5)\n",
    "read_only_array.flags.writeable = False\n",
    "read_only_array.flags.writeable"
   ]
  },
  {
   "cell_type": "markdown",
   "id": "8f02e04c-4989-4a0e-94e4-fe7c038cc31b",
   "metadata": {
    "jp-MarkdownHeadingCollapsed": true
   },
   "source": [
    "<h3>Questions on NumPy Matrix </h3>\n"
   ]
  },
  {
   "cell_type": "code",
   "execution_count": 75,
   "id": "69a907ac-fe72-4c78-bdd7-80768b29a939",
   "metadata": {},
   "outputs": [],
   "source": [
    "matrix_to_flatten = np.array([\n",
    "    [1, 2, 3, 4, 5],\n",
    "    [6, 7, 8, 9, 10],\n",
    "    [11, 12, 13, 14, 15],\n",
    "    [16, 17, 18, 19, 20],\n",
    "    [21, 22, 23, 24, 25]\n",
    "])"
   ]
  },
  {
   "cell_type": "code",
   "execution_count": 76,
   "id": "17dc780f-b828-4ed8-99db-374cb88495f3",
   "metadata": {},
   "outputs": [
    {
     "data": {
      "text/plain": [
       "25"
      ]
     },
     "execution_count": 76,
     "metadata": {},
     "output_type": "execute_result"
    }
   ],
   "source": [
    "# Get the maximum value from a given matrix\n",
    "max_value = np.max(matrix_to_flatten)\n",
    "max_value"
   ]
  },
  {
   "cell_type": "code",
   "execution_count": 77,
   "id": "ea843f21-7a4c-4ffd-93df-36d9baa1f3f8",
   "metadata": {},
   "outputs": [
    {
     "data": {
      "text/plain": [
       "(5, 5)"
      ]
     },
     "execution_count": 77,
     "metadata": {},
     "output_type": "execute_result"
    }
   ],
   "source": [
    "# Find the number of rows and columns of a given matrix using NumPy\n",
    "num_rows, num_cols = matrix_to_flatten.shape\n",
    "num_rows, num_cols"
   ]
  },
  {
   "cell_type": "code",
   "execution_count": 78,
   "id": "453f6241-bc03-4cef-99a9-a4d0eb3e88fc",
   "metadata": {},
   "outputs": [
    {
     "data": {
      "text/plain": [
       "array([[ 7,  8,  9, 10],\n",
       "       [12, 13, 14, 15],\n",
       "       [17, 18, 19, 20],\n",
       "       [22, 23, 24, 25]])"
      ]
     },
     "execution_count": 78,
     "metadata": {},
     "output_type": "execute_result"
    }
   ],
   "source": [
    "# Select elements from a given matrix\n",
    "selected_elements = matrix_to_flatten[1:, 1:]\n",
    "selected_elements"
   ]
  },
  {
   "cell_type": "code",
   "execution_count": 79,
   "id": "5c17d63d-acbd-4251-8f09-b354c74b9e0b",
   "metadata": {},
   "outputs": [
    {
     "data": {
      "text/plain": [
       "325"
      ]
     },
     "execution_count": 79,
     "metadata": {},
     "output_type": "execute_result"
    }
   ],
   "source": [
    "# Find the sum of values in a matrix\n",
    "matrix_sum = np.sum(matrix_to_flatten)\n",
    "matrix_sum"
   ]
  },
  {
   "cell_type": "code",
   "execution_count": 80,
   "id": "c1fbf131-9ac9-48e0-a1fe-31b267db7ce9",
   "metadata": {},
   "outputs": [
    {
     "data": {
      "text/plain": [
       "65"
      ]
     },
     "execution_count": 80,
     "metadata": {},
     "output_type": "execute_result"
    }
   ],
   "source": [
    "# Calculate the sum of the diagonal elements of a NumPy array\n",
    "diagonal_sum = np.trace(matrix_to_flatten)\n",
    "diagonal_sum"
   ]
  },
  {
   "cell_type": "code",
   "execution_count": 81,
   "id": "910ca308-4bb8-4676-a6cd-5edf4714cddd",
   "metadata": {},
   "outputs": [
    {
     "data": {
      "text/plain": [
       "(array([[ 6,  8],\n",
       "        [10, 12]]),\n",
       " array([[-4, -4],\n",
       "        [-4, -4]]))"
      ]
     },
     "execution_count": 81,
     "metadata": {},
     "output_type": "execute_result"
    }
   ],
   "source": [
    "# Adding and Subtracting Matrices in Python\n",
    "matrix_a = np.array([[1, 2], [3, 4]])\n",
    "matrix_b = np.array([[5, 6], [7, 8]])\n",
    "matrix_sum = matrix_a + matrix_b\n",
    "matrix_diff = matrix_a - matrix_b\n",
    "matrix_sum, matrix_diff"
   ]
  },
  {
   "cell_type": "code",
   "execution_count": 82,
   "id": "4b121981-6f00-454c-a326-1272d0c4b940",
   "metadata": {},
   "outputs": [
    {
     "data": {
      "text/plain": [
       "(array([[ 1,  2],\n",
       "        [ 3,  4],\n",
       "        [ 9, 10]]),\n",
       " array([[ 1,  2, 11],\n",
       "        [ 3,  4, 12]]))"
      ]
     },
     "execution_count": 82,
     "metadata": {},
     "output_type": "execute_result"
    }
   ],
   "source": [
    "# Ways to add row/columns in a numpy array\n",
    "row_to_add = np.array([9, 10])\n",
    "matrix_with_added_row = np.vstack((matrix_a, row_to_add))\n",
    "column_to_add = np.array([[11], [12]])\n",
    "matrix_with_added_column = np.hstack((matrix_a, column_to_add))\n",
    "matrix_with_added_row, matrix_with_added_column"
   ]
  },
  {
   "cell_type": "code",
   "execution_count": 83,
   "id": "4107837a-5cf3-4e50-8a01-317adcbeaa57",
   "metadata": {},
   "outputs": [
    {
     "data": {
      "text/plain": [
       "array([[ 9, 12, 15],\n",
       "       [19, 26, 33]])"
      ]
     },
     "execution_count": 83,
     "metadata": {},
     "output_type": "execute_result"
    }
   ],
   "source": [
    "# Matrix Multiplication in NumPy\n",
    "matrix_c = np.array([[1, 2, 3], [4, 5, 6]])\n",
    "matrix_mult_result = np.dot(matrix_a, matrix_c)\n",
    "matrix_mult_result"
   ]
  },
  {
   "cell_type": "code",
   "execution_count": 84,
   "id": "b02331cb-22b2-4c07-bb84-531e58ea3bc4",
   "metadata": {},
   "outputs": [
    {
     "data": {
      "text/plain": [
       "array([-0.37228132,  5.37228132])"
      ]
     },
     "execution_count": 84,
     "metadata": {},
     "output_type": "execute_result"
    }
   ],
   "source": [
    "# Get the eigenvalues of a matrix\n",
    "eigenvalues = np.linalg.eigvals(matrix_a)\n",
    "eigenvalues"
   ]
  },
  {
   "cell_type": "code",
   "execution_count": 85,
   "id": "0e9ae6cb-51ad-4e17-8abb-d4a73f7826d0",
   "metadata": {},
   "outputs": [
    {
     "data": {
      "text/plain": [
       "-2.0000000000000004"
      ]
     },
     "execution_count": 85,
     "metadata": {},
     "output_type": "execute_result"
    }
   ],
   "source": [
    "# Calculate the determinant of a matrix using NumPy\n",
    "determinant = np.linalg.det(matrix_a)\n",
    "determinant"
   ]
  },
  {
   "cell_type": "code",
   "execution_count": 86,
   "id": "966b31a6-ffa8-4833-8099-87c6bbb74988",
   "metadata": {},
   "outputs": [
    {
     "data": {
      "text/plain": [
       "array([[-2. ,  1. ],\n",
       "       [ 1.5, -0.5]])"
      ]
     },
     "execution_count": 86,
     "metadata": {},
     "output_type": "execute_result"
    }
   ],
   "source": [
    "# Inverse a matrix using NumPy\n",
    "inverse_matrix = np.linalg.inv(matrix_a)\n",
    "inverse_matrix"
   ]
  },
  {
   "cell_type": "code",
   "execution_count": 87,
   "id": "4eb491b6-0eb3-41bc-aa59-b8d402527096",
   "metadata": {},
   "outputs": [
    {
     "data": {
      "text/plain": [
       "{1: 1,\n",
       " 2: 1,\n",
       " 3: 1,\n",
       " 4: 1,\n",
       " 5: 1,\n",
       " 6: 1,\n",
       " 7: 1,\n",
       " 8: 1,\n",
       " 9: 1,\n",
       " 10: 1,\n",
       " 11: 1,\n",
       " 12: 1,\n",
       " 13: 1,\n",
       " 14: 1,\n",
       " 15: 1,\n",
       " 16: 1,\n",
       " 17: 1,\n",
       " 18: 1,\n",
       " 19: 1,\n",
       " 20: 1,\n",
       " 21: 1,\n",
       " 22: 1,\n",
       " 23: 1,\n",
       " 24: 1,\n",
       " 25: 1}"
      ]
     },
     "execution_count": 87,
     "metadata": {},
     "output_type": "execute_result"
    }
   ],
   "source": [
    "# Count the frequency of unique values in a NumPy array\n",
    "unique_values, counts = np.unique(matrix_to_flatten, return_counts=True)\n",
    "frequency_dict = dict(zip(unique_values, counts))\n",
    "frequency_dict"
   ]
  },
  {
   "cell_type": "code",
   "execution_count": 88,
   "id": "2f406455-5af8-4eff-bea0-c5909670203d",
   "metadata": {},
   "outputs": [
    {
     "data": {
      "text/plain": [
       "array([[-28.+122.j, -32.+142.j],\n",
       "       [-36.+306.j, -40.+358.j]])"
      ]
     },
     "execution_count": 88,
     "metadata": {},
     "output_type": "execute_result"
    }
   ],
   "source": [
    "# Multiply matrices of complex numbers using NumPy in Python\n",
    "complex_matrix_a = np.array([[1 + 2j, 3 + 4j], [5 + 6j, 7 + 8j]])\n",
    "complex_matrix_b = np.array([[9 + 10j, 11 + 12j], [13 + 14j, 15 + 16j]])\n",
    "complex_mult_result = np.dot(complex_matrix_a, complex_matrix_b)\n",
    "complex_mult_result"
   ]
  },
  {
   "cell_type": "code",
   "execution_count": 89,
   "id": "a2872597-d78f-4998-8925-013adf1e102b",
   "metadata": {},
   "outputs": [
    {
     "data": {
      "text/plain": [
       "array([[ 4,  5,  6],\n",
       "       [ 8, 10, 12],\n",
       "       [12, 15, 18]])"
      ]
     },
     "execution_count": 89,
     "metadata": {},
     "output_type": "execute_result"
    }
   ],
   "source": [
    "# Compute the outer product of two given vectors using NumPy in Python\n",
    "vector_a = np.array([1, 2, 3])\n",
    "vector_b = np.array([4, 5, 6])\n",
    "outer_product = np.outer(vector_a, vector_b)\n",
    "outer_product"
   ]
  },
  {
   "cell_type": "code",
   "execution_count": 90,
   "id": "102c5fc1-57a9-4b57-8291-7e938d1cbcc4",
   "metadata": {},
   "outputs": [
    {
     "data": {
      "text/plain": [
       "(32, array([-3,  6, -3]))"
      ]
     },
     "execution_count": 90,
     "metadata": {},
     "output_type": "execute_result"
    }
   ],
   "source": [
    "# Calculate inner, outer, and cross products of matrices and vectors using NumPy\n",
    "inner_product = np.inner(vector_a, vector_b)\n",
    "cross_product = np.cross(vector_a, vector_b)\n",
    "inner_product, cross_product"
   ]
  },
  {
   "cell_type": "code",
   "execution_count": 91,
   "id": "79fdf659-db5f-4bb7-b080-03327b42d994",
   "metadata": {},
   "outputs": [
    {
     "data": {
      "text/plain": [
       "array([[ 2.5, -2.5],\n",
       "       [-2.5,  2.5]])"
      ]
     },
     "execution_count": 91,
     "metadata": {},
     "output_type": "execute_result"
    }
   ],
   "source": [
    "# Compute the covariance matrix of two given NumPy arrays\n",
    "array_x = np.array([1, 2, 3, 4, 5])\n",
    "array_y = np.array([5, 4, 3, 2, 1])\n",
    "covariance_matrix = np.cov(array_x, array_y)\n",
    "covariance_matrix"
   ]
  },
  {
   "cell_type": "code",
   "execution_count": 92,
   "id": "7910d6c8-04d4-4520-b656-af191a4043e8",
   "metadata": {},
   "outputs": [
    {
     "data": {
      "text/plain": [
       "array([[ 1., -1.],\n",
       "       [-1.,  1.]])"
      ]
     },
     "execution_count": 92,
     "metadata": {},
     "output_type": "execute_result"
    }
   ],
   "source": [
    "# Convert covariance matrix to correlation matrix using Python\n",
    "correlation_matrix = np.corrcoef(array_x, array_y)\n",
    "correlation_matrix"
   ]
  },
  {
   "cell_type": "code",
   "execution_count": 93,
   "id": "ab258642-e59b-4378-9454-cf5c5123d0ea",
   "metadata": {},
   "outputs": [
    {
     "data": {
      "text/plain": [
       "array([[ 1,  2,  3,  2,  4,  6],\n",
       "       [ 4,  5,  6,  8, 10, 12],\n",
       "       [ 3,  6,  9,  4,  8, 12],\n",
       "       [12, 15, 18, 16, 20, 24]])"
      ]
     },
     "execution_count": 93,
     "metadata": {},
     "output_type": "execute_result"
    }
   ],
   "source": [
    "# Compute the Kronecker product of two multidimensional NumPy arrays\n",
    "kron_product = np.kron(matrix_a, matrix_c)\n",
    "kron_product"
   ]
  },
  {
   "cell_type": "code",
   "execution_count": 94,
   "id": "8143abc8-4c5e-43b1-a256-368cf68a2982",
   "metadata": {},
   "outputs": [
    {
     "data": {
      "text/plain": [
       "[[1, 2, 3, 4, 5],\n",
       " [6, 7, 8, 9, 10],\n",
       " [11, 12, 13, 14, 15],\n",
       " [16, 17, 18, 19, 20],\n",
       " [21, 22, 23, 24, 25]]"
      ]
     },
     "execution_count": 94,
     "metadata": {},
     "output_type": "execute_result"
    }
   ],
   "source": [
    "# Convert the matrix into a list\n",
    "matrix_as_list = matrix_to_flatten.tolist()\n",
    "matrix_as_list"
   ]
  },
  {
   "cell_type": "markdown",
   "id": "45b0c32a-32cb-4e5e-ba3d-582322189bf4",
   "metadata": {},
   "source": [
    "<h3>NumPy Indexing</h3>"
   ]
  },
  {
   "cell_type": "code",
   "execution_count": 95,
   "id": "21af7059-c02c-41c7-ac4c-7841d100dc84",
   "metadata": {},
   "outputs": [
    {
     "data": {
      "text/plain": [
       "array([[ 0,  2,  0,  4,  0],\n",
       "       [ 6,  0,  8,  0, 10],\n",
       "       [ 0, 12,  0, 14,  0],\n",
       "       [16,  0, 18,  0, 20],\n",
       "       [ 0, 22,  0, 24,  0]])"
      ]
     },
     "execution_count": 95,
     "metadata": {},
     "output_type": "execute_result"
    }
   ],
   "source": [
    "# Replace NumPy array elements that don’t satisfy the given condition\n",
    "condition = matrix_to_flatten % 2 == 0\n",
    "filtered_array = np.where(condition, matrix_to_flatten, 0)\n",
    "filtered_array"
   ]
  },
  {
   "cell_type": "code",
   "execution_count": 96,
   "id": "3be7ef7c-4a78-4253-afa7-0b3d81f9cd7a",
   "metadata": {},
   "outputs": [
    {
     "data": {
      "text/plain": [
       "(array([0, 0, 1, 1, 1, 2, 2, 3, 3, 3, 4, 4]),\n",
       " array([1, 3, 0, 2, 4, 1, 3, 0, 2, 4, 1, 3]))"
      ]
     },
     "execution_count": 96,
     "metadata": {},
     "output_type": "execute_result"
    }
   ],
   "source": [
    "# Return the indices of elements where the given condition is satisfied\n",
    "indices_condition = np.where(matrix_to_flatten % 2 == 0)\n",
    "indices_condition\n"
   ]
  },
  {
   "cell_type": "code",
   "execution_count": 97,
   "id": "94247776-4f03-4ddb-8e5f-b6d466cedca1",
   "metadata": {},
   "outputs": [],
   "source": [
    "# # Replace NaN values with the average of columns\n",
    "# nan_array = np.array([[1, 2, np.nan], [4, np.nan, 6], [7, 8, 9]])\n",
    "# average_columns = np.nanmean(nan_array, axis=0)\n",
    "# nan_array[np.isnan(nan_array)] = average_columns\n",
    "# nan_array"
   ]
  },
  {
   "cell_type": "code",
   "execution_count": 98,
   "id": "9f596fc7-582b-46fa-8676-3dd88a18832e",
   "metadata": {},
   "outputs": [
    {
     "data": {
      "text/plain": [
       "array([[ 1,  2,  3,  4,  5],\n",
       "       [ 6,  7,  8,  9, 10],\n",
       "       [11, 12, 13, 14, 15],\n",
       "       [16, 17, 18, 19, 20],\n",
       "       [21, 22, 23, 24, 25]])"
      ]
     },
     "execution_count": 98,
     "metadata": {},
     "output_type": "execute_result"
    }
   ],
   "source": [
    "# Replace negative values with zero in a numpy array\n",
    "negative_to_zero = np.where(matrix_to_flatten < 0, 0, matrix_to_flatten)\n",
    "negative_to_zero"
   ]
  },
  {
   "cell_type": "code",
   "execution_count": 99,
   "id": "e1dc1ab9-f53a-40d3-8b4a-74f9bea522f8",
   "metadata": {},
   "outputs": [
    {
     "data": {
      "text/plain": [
       "array([[[ 1,  2,  3,  4,  5],\n",
       "        [ 6,  7,  8,  9, 10]],\n",
       "\n",
       "       [[ 6,  7,  8,  9, 10],\n",
       "        [11, 12, 13, 14, 15]],\n",
       "\n",
       "       [[11, 12, 13, 14, 15],\n",
       "        [ 1,  2,  3,  4,  5]]])"
      ]
     },
     "execution_count": 99,
     "metadata": {},
     "output_type": "execute_result"
    }
   ],
   "source": [
    "# How to get values of a NumPy array at certain index positions?\n",
    "index_positions = [(0, 1), (1, 2), (2, 0)]\n",
    "values_at_indices = matrix_to_flatten[index_positions]\n",
    "values_at_indices"
   ]
  },
  {
   "cell_type": "code",
   "execution_count": 100,
   "id": "4d54f9ca-e556-4cdc-9449-c34a7bb2cfcd",
   "metadata": {},
   "outputs": [
    {
     "data": {
      "text/plain": [
       "(array([], dtype=int64), array([], dtype=int64))"
      ]
     },
     "execution_count": 100,
     "metadata": {},
     "output_type": "execute_result"
    }
   ],
   "source": [
    "# Find indices of elements equal to zero in a NumPy array\n",
    "zero_indices = np.where(matrix_to_flatten == 0)\n",
    "zero_indices"
   ]
  },
  {
   "cell_type": "code",
   "execution_count": 101,
   "id": "afd26858-1ee0-4fd3-aa69-39832186616c",
   "metadata": {},
   "outputs": [
    {
     "data": {
      "text/plain": [
       "array([[ 1,  2,  3,  4,  5],\n",
       "       [ 6,  7,  8,  9, 10],\n",
       "       [11, 12, 13, 14, 15],\n",
       "       [16, 17, 18, 19, 20],\n",
       "       [21, 22, 23, 24, 25]])"
      ]
     },
     "execution_count": 101,
     "metadata": {},
     "output_type": "execute_result"
    }
   ],
   "source": [
    "# Remove columns in a NumPy array that contain non-numeric values\n",
    "non_numeric_columns = np.any(np.isnan(matrix_to_flatten), axis=0)\n",
    "numeric_columns_array = matrix_to_flatten[:, ~non_numeric_columns]\n",
    "numeric_columns_array"
   ]
  },
  {
   "cell_type": "code",
   "execution_count": 102,
   "id": "170450f9-1501-40ac-ba96-df0dc3cdd6d2",
   "metadata": {},
   "outputs": [
    {
     "data": {
      "text/plain": [
       "array([[ 1,  2,  3,  4,  5],\n",
       "       [11, 12, 13, 14, 15]])"
      ]
     },
     "execution_count": 102,
     "metadata": {},
     "output_type": "execute_result"
    }
   ],
   "source": [
    "# Access different rows of a multidimensional NumPy array\n",
    "rows_to_access = [0, 2]\n",
    "selected_rows = matrix_to_flatten[rows_to_access, :]\n",
    "selected_rows"
   ]
  },
  {
   "cell_type": "code",
   "execution_count": 103,
   "id": "f76539cc-9fe1-473a-8b4b-0ad003bac9e1",
   "metadata": {},
   "outputs": [
    {
     "data": {
      "text/plain": [
       "array([1, 1, 1, 1, 1, 2, 2, 2, 2, 2, 3, 3, 3, 3, 3, 4, 4, 4, 4, 4])"
      ]
     },
     "execution_count": 103,
     "metadata": {},
     "output_type": "execute_result"
    }
   ],
   "source": [
    "# Get row numbers of a NumPy array having elements larger than X\n",
    "X = 5\n",
    "rows_greater_than_X = np.where(matrix_to_flatten > X)[0]\n",
    "rows_greater_than_X"
   ]
  },
  {
   "cell_type": "code",
   "execution_count": 104,
   "id": "0f981542-e566-49c9-9baa-cb666d8cdfbc",
   "metadata": {},
   "outputs": [],
   "source": [
    "# Get filled diagonals of a NumPy array\n",
    "diagonals_filled = np.fill_diagonal(np.zeros_like(matrix_a), 1)\n",
    "diagonals_filled"
   ]
  },
  {
   "cell_type": "code",
   "execution_count": 105,
   "id": "d0dcef09-f296-42e4-b85e-861f60923eda",
   "metadata": {},
   "outputs": [
    {
     "data": {
      "text/plain": [
       "array([ True,  True,  True])"
      ]
     },
     "execution_count": 105,
     "metadata": {},
     "output_type": "execute_result"
    }
   ],
   "source": [
    "# Check elements present in the NumPy array\n",
    "elements_to_check = [1, 7, 12]\n",
    "elements_present = np.isin(elements_to_check, matrix_to_flatten)\n",
    "elements_present"
   ]
  },
  {
   "cell_type": "code",
   "execution_count": 106,
   "id": "a10768f7-a19b-421a-b727-45fbdb7530d5",
   "metadata": {},
   "outputs": [
    {
     "data": {
      "text/plain": [
       "array([[1, 4],\n",
       "       [2, 5],\n",
       "       [3, 6]])"
      ]
     },
     "execution_count": 106,
     "metadata": {},
     "output_type": "execute_result"
    }
   ],
   "source": [
    "# Combined array index by index\n",
    "array1 = np.array([1, 2, 3])\n",
    "array2 = np.array([4, 5, 6])\n",
    "combined_array = np.column_stack((array1, array2))\n",
    "combined_array"
   ]
  },
  {
   "cell_type": "markdown",
   "id": "560d0087-06e8-4a3e-85dd-7a333327cec2",
   "metadata": {},
   "source": [
    "<h3>Linear Algebra</h3>"
   ]
  },
  {
   "cell_type": "code",
   "execution_count": 107,
   "id": "ba0f4066-1bbf-4f97-8d55-f8afc2586137",
   "metadata": {},
   "outputs": [
    {
     "data": {
      "text/plain": [
       "5.477225575051661"
      ]
     },
     "execution_count": 107,
     "metadata": {},
     "output_type": "execute_result"
    }
   ],
   "source": [
    "# Find a matrix or vector norm using NumPy\n",
    "matrix_norm = np.linalg.norm(matrix_a)\n",
    "matrix_norm"
   ]
  },
  {
   "cell_type": "code",
   "execution_count": 108,
   "id": "2634d358-52ae-4804-ae43-db2b773c742a",
   "metadata": {},
   "outputs": [
    {
     "data": {
      "text/plain": [
       "(array([[-0.31622777, -0.9486833 ],\n",
       "        [-0.9486833 ,  0.31622777]]),\n",
       " array([[-3.16227766, -4.42718872],\n",
       "        [ 0.        , -0.63245553]]))"
      ]
     },
     "execution_count": 108,
     "metadata": {},
     "output_type": "execute_result"
    }
   ],
   "source": [
    "# Calculate the QR decomposition of a given matrix using NumPy\n",
    "Q, R = np.linalg.qr(matrix_a)\n",
    "Q, R"
   ]
  },
  {
   "cell_type": "code",
   "execution_count": 109,
   "id": "f44ab0a6-3ee7-4c9e-9d57-0fd138e0bf53",
   "metadata": {},
   "outputs": [
    {
     "data": {
      "text/plain": [
       "14.933034373659268"
      ]
     },
     "execution_count": 109,
     "metadata": {},
     "output_type": "execute_result"
    }
   ],
   "source": [
    "# Compute the condition number of a given matrix using NumPy\n",
    "condition_number = np.linalg.cond(matrix_a)\n",
    "condition_number"
   ]
  },
  {
   "cell_type": "code",
   "execution_count": 110,
   "id": "a4c51283-d56b-4375-bf34-d355aec2d069",
   "metadata": {},
   "outputs": [
    {
     "data": {
      "text/plain": [
       "(array([-0.37228132,  5.37228132]),\n",
       " array([[-0.82456484, -0.41597356],\n",
       "        [ 0.56576746, -0.90937671]]))"
      ]
     },
     "execution_count": 110,
     "metadata": {},
     "output_type": "execute_result"
    }
   ],
   "source": [
    "# Compute the eigenvalues and right eigenvectors of a given square array using NumPy\n",
    "eigenvalues, eigenvectors = np.linalg.eig(matrix_a)\n",
    "eigenvalues, eigenvectors"
   ]
  },
  {
   "cell_type": "code",
   "execution_count": 111,
   "id": "a4aef241-70d3-4d04-a79c-6589aef66d39",
   "metadata": {},
   "outputs": [
    {
     "data": {
      "text/plain": [
       "5.196152422706632"
      ]
     },
     "execution_count": 111,
     "metadata": {},
     "output_type": "execute_result"
    }
   ],
   "source": [
    "# Calculate the Euclidean distance using NumPy\n",
    "point1 = np.array([1, 2, 3])\n",
    "point2 = np.array([4, 5, 6])\n",
    "euclidean_distance = np.linalg.norm(point2 - point1)\n",
    "euclidean_distance"
   ]
  },
  {
   "cell_type": "markdown",
   "id": "ea391af4-a2f2-4736-a71c-1046bd93113f",
   "metadata": {},
   "source": [
    "<h3>Random</h3>"
   ]
  },
  {
   "cell_type": "code",
   "execution_count": 112,
   "id": "026cf5d4-d5cd-4a5e-8181-3912f73391b7",
   "metadata": {},
   "outputs": [
    {
     "name": "stdout",
     "output_type": "stream",
     "text": [
      "Random Array:\n",
      "[[0.90654086 0.48164643 0.0278228 ]\n",
      " [0.49554795 0.61236756 0.09783568]\n",
      " [0.60160497 0.15534195 0.68735161]]\n"
     ]
    }
   ],
   "source": [
    "# Create a NumPy array with random values\n",
    "random_array = np.random.random((3, 3))\n",
    "print(\"Random Array:\")\n",
    "print(random_array)"
   ]
  },
  {
   "cell_type": "code",
   "execution_count": 113,
   "id": "381889e0-26a4-45ff-9e31-74d321253ceb",
   "metadata": {},
   "outputs": [
    {
     "name": "stdout",
     "output_type": "stream",
     "text": [
      "\n",
      "Random Choices with Probabilities:\n",
      "['b' 'b' 'b' 'b' 'b']\n"
     ]
    }
   ],
   "source": [
    "# Choose elements from the list with different probability using NumPy\n",
    "choices = np.random.choice(['a', 'b', 'c'], size=5, p=[0.2, 0.5, 0.3])\n",
    "print(\"\\nRandom Choices with Probabilities:\")\n",
    "print(choices)"
   ]
  },
  {
   "cell_type": "code",
   "execution_count": 114,
   "id": "43334b4b-e480-4461-a9ce-52f63af29624",
   "metadata": {},
   "outputs": [
    {
     "name": "stdout",
     "output_type": "stream",
     "text": [
      "\n",
      "Weighted Random Choices:\n",
      "['z' 'z' 'z' 'z' 'z']\n"
     ]
    }
   ],
   "source": [
    "# Get weighted random choice in Python\n",
    "weighted_choices = np.random.choice(['x', 'y', 'z'], size=5, p=[0.1, 0.3, 0.6])\n",
    "print(\"\\nWeighted Random Choices:\")\n",
    "print(weighted_choices)"
   ]
  },
  {
   "cell_type": "code",
   "execution_count": 115,
   "id": "491cf79a-d911-44f0-a32f-a8e56a3131df",
   "metadata": {},
   "outputs": [
    {
     "name": "stdout",
     "output_type": "stream",
     "text": [
      "\n",
      "Random Numbers from Uniform Distribution:\n",
      "[[0.69989633 0.60987883]\n",
      " [0.43601262 0.35757225]]\n"
     ]
    }
   ],
   "source": [
    "# Generate random numbers from the uniform distribution using NumPy\n",
    "uniform_random_numbers = np.random.uniform(low=0, high=1, size=(2, 2))\n",
    "print(\"\\nRandom Numbers from Uniform Distribution:\")\n",
    "print(uniform_random_numbers)"
   ]
  },
  {
   "cell_type": "code",
   "execution_count": 116,
   "id": "06eeacb7-22e0-4683-acac-1b9aa65e6e68",
   "metadata": {},
   "outputs": [
    {
     "name": "stdout",
     "output_type": "stream",
     "text": [
      "\n",
      "Random Elements from Geometric Distribution:\n",
      "[[1 2 3]\n",
      " [3 2 2]\n",
      " [1 1 1]]\n"
     ]
    }
   ],
   "source": [
    "# Get random elements from the geometric distribution\n",
    "geometric_random_elements = np.random.geometric(p=0.5, size=(3, 3))\n",
    "print(\"\\nRandom Elements from Geometric Distribution:\")\n",
    "print(geometric_random_elements)"
   ]
  },
  {
   "cell_type": "code",
   "execution_count": 117,
   "id": "32a9f0a6-dd90-47c0-8f71-c9cda5fd461c",
   "metadata": {},
   "outputs": [
    {
     "name": "stdout",
     "output_type": "stream",
     "text": [
      "\n",
      "Random Elements from Laplace Distribution:\n",
      "[[-0.24354192 -0.29820186  0.04846437]\n",
      " [-2.76128378 -0.4136095  -2.26205513]\n",
      " [ 0.09630689  0.40019894 -3.01227506]]\n"
     ]
    }
   ],
   "source": [
    "# Get random elements from the Laplace distribution\n",
    "laplace_random_elements = np.random.laplace(loc=0, scale=1, size=(3, 3))\n",
    "print(\"\\nRandom Elements from Laplace Distribution:\")\n",
    "print(laplace_random_elements)"
   ]
  },
  {
   "cell_type": "code",
   "execution_count": 118,
   "id": "cd54aa3a-9e24-4206-bac3-9b44ca3bfb43",
   "metadata": {},
   "outputs": [
    {
     "name": "stdout",
     "output_type": "stream",
     "text": [
      "\n",
      "Random Matrix from Uniform Distribution:\n",
      "[[0.17845208 0.14920578]\n",
      " [0.59278375 0.64482134]]\n"
     ]
    }
   ],
   "source": [
    "# Return a matrix of random values from a uniform distribution\n",
    "uniform_random_matrix = np.random.rand(2, 2)\n",
    "print(\"\\nRandom Matrix from Uniform Distribution:\")\n",
    "print(uniform_random_matrix)"
   ]
  },
  {
   "cell_type": "code",
   "execution_count": 119,
   "id": "79f63bfd-b61f-4ce5-9271-973c13a272f2",
   "metadata": {},
   "outputs": [
    {
     "name": "stdout",
     "output_type": "stream",
     "text": [
      "\n",
      "Random Matrix from Gaussian Distribution:\n",
      "[[ 0.13866246  1.50405785]\n",
      " [-0.1908105   1.72095975]]\n"
     ]
    }
   ],
   "source": [
    "# Return a matrix of random values from a Gaussian distribution\n",
    "gaussian_random_matrix = np.random.randn(2, 2)\n",
    "print(\"\\nRandom Matrix from Gaussian Distribution:\")\n",
    "print(gaussian_random_matrix)"
   ]
  },
  {
   "cell_type": "markdown",
   "id": "1db603e5-ce2b-48bc-a420-904ce35611a6",
   "metadata": {},
   "source": [
    "<h3>Sorting and Searching</h3>"
   ]
  },
  {
   "cell_type": "code",
   "execution_count": 120,
   "id": "d0dc8858-439e-46c4-aefb-5070f25ee450",
   "metadata": {},
   "outputs": [],
   "source": [
    "# Create a NumPy array\n",
    "original_array = np.array([3, 1, 4, 1, 5, 9, 2, 6, 5, 3, 5])"
   ]
  },
  {
   "cell_type": "code",
   "execution_count": 121,
   "id": "3442ac87-2997-4dfa-9140-963bc404e4fb",
   "metadata": {},
   "outputs": [
    {
     "name": "stdout",
     "output_type": "stream",
     "text": [
      "Indices of the Sorted Array:\n",
      "[ 1  3  6  0  9  2  4  8 10  7  5]\n"
     ]
    }
   ],
   "source": [
    "# Get the indices of the sorted array using NumPy\n",
    "sorted_indices = np.argsort(original_array)\n",
    "print(\"Indices of the Sorted Array:\")\n",
    "print(sorted_indices)"
   ]
  },
  {
   "cell_type": "code",
   "execution_count": 122,
   "id": "aa7b574b-8299-4e43-8823-377cd39a820d",
   "metadata": {},
   "outputs": [
    {
     "name": "stdout",
     "output_type": "stream",
     "text": [
      "\n",
      "3 Smallest Values:\n",
      "[1 1 2]\n"
     ]
    }
   ],
   "source": [
    "# Finding the k smallest values of a NumPy array\n",
    "k_smallest_values = original_array[sorted_indices[:3]]  # Change 3 to the desired k value\n",
    "print(\"\\n{} Smallest Values:\".format(len(k_smallest_values)))\n",
    "print(k_smallest_values)"
   ]
  },
  {
   "cell_type": "code",
   "execution_count": 123,
   "id": "e7f0db1e-3445-4731-a7f1-90b0eed2577d",
   "metadata": {},
   "outputs": [
    {
     "name": "stdout",
     "output_type": "stream",
     "text": [
      "\n",
      "3 Largest Values:\n",
      "[5 6 9]\n"
     ]
    }
   ],
   "source": [
    "# How to get the n-largest values of an array using NumPy?\n",
    "n_largest_values = original_array[sorted_indices[-3:]]  # Change 3 to the desired n value\n",
    "print(\"\\n{} Largest Values:\".format(len(n_largest_values)))\n",
    "print(n_largest_values)"
   ]
  },
  {
   "cell_type": "code",
   "execution_count": 124,
   "id": "3e99da96-a3c9-467e-be32-e4ccbbf6e8e5",
   "metadata": {},
   "outputs": [
    {
     "name": "stdout",
     "output_type": "stream",
     "text": [
      "\n",
      "Sorted Values in the Matrix:\n",
      "[1 1 2 3 4 5 5 6 9]\n"
     ]
    }
   ],
   "source": [
    "# Sort the values in a matrix\n",
    "matrix_to_sort = np.array([[3, 1, 4], [1, 5, 9], [2, 6, 5]])\n",
    "sorted_matrix = np.sort(matrix_to_sort, axis=None)\n",
    "print(\"\\nSorted Values in the Matrix:\")\n",
    "print(sorted_matrix)"
   ]
  },
  {
   "cell_type": "code",
   "execution_count": 125,
   "id": "98d42f7d-9d49-467a-be91-beb427713225",
   "metadata": {},
   "outputs": [
    {
     "name": "stdout",
     "output_type": "stream",
     "text": [
      "\n",
      "Float Array with Integers Filtered Out:\n",
      "[1.2 3.5 2.7 5.9 8.1]\n"
     ]
    }
   ],
   "source": [
    "# Filter out integers from a float NumPy array\n",
    "float_array = np.array([1.2, 3.5, 2.7, 4.0, 5.9, 8.1])\n",
    "filtered_float_array = float_array[float_array % 1 != 0]\n",
    "print(\"\\nFloat Array with Integers Filtered Out:\")\n",
    "print(filtered_float_array)"
   ]
  },
  {
   "cell_type": "code",
   "execution_count": 126,
   "id": "8bd9476b-bc56-4f3f-83c8-78466de0729f",
   "metadata": {},
   "outputs": [
    {
     "name": "stdout",
     "output_type": "stream",
     "text": [
      "\n",
      "Indices into a Sorted Matrix:\n",
      "(array([0, 1, 2, 0, 0, 1, 2, 2, 1]), array([1, 0, 0, 0, 2, 1, 2, 1, 2]))\n"
     ]
    }
   ],
   "source": [
    "# Find the indices into a sorted array\n",
    "sorted_indices_matrix = np.unravel_index(np.argsort(matrix_to_sort, axis=None), matrix_to_sort.shape)\n",
    "print(\"\\nIndices into a Sorted Matrix:\")\n",
    "print(sorted_indices_matrix)"
   ]
  },
  {
   "cell_type": "markdown",
   "id": "0cf848e4-d50e-4e1a-ba7e-2d337a040b31",
   "metadata": {},
   "source": [
    "<h3> Mathematics</h3>"
   ]
  },
  {
   "cell_type": "code",
   "execution_count": 127,
   "id": "2054f7a1-251a-4d82-8756-296ba0bac55c",
   "metadata": {},
   "outputs": [],
   "source": [
    "# Create NumPy arrays\n",
    "array_a = np.array([4, 8, 12, 16])\n",
    "array_b = np.array([2, 4, 6, 8])\n",
    "matrix_2d = np.array([[1, 2, 3], [4, 5, 6], [7, 8, 9]])"
   ]
  },
  {
   "cell_type": "code",
   "execution_count": 128,
   "id": "b4362996-d3fa-4ab7-b77f-d004ece7b8fc",
   "metadata": {},
   "outputs": [
    {
     "name": "stdout",
     "output_type": "stream",
     "text": [
      "Element-wise True Division:\n",
      "[2. 2. 2. 2.]\n"
     ]
    }
   ],
   "source": [
    "# Element-wise true division of an array using NumPy\n",
    "elementwise_true_division = np.true_divide(array_a, array_b)\n",
    "print(\"Element-wise True Division:\")\n",
    "print(elementwise_true_division)"
   ]
  },
  {
   "cell_type": "code",
   "execution_count": 129,
   "id": "3b6e1c0e-5d01-422f-b2f1-67d261299e80",
   "metadata": {},
   "outputs": [
    {
     "name": "stdout",
     "output_type": "stream",
     "text": [
      "\n",
      "Element-wise Absolute Values:\n",
      "[ 4  8 12 16]\n"
     ]
    }
   ],
   "source": [
    "# Calculate the element-wise absolute value of a NumPy array\n",
    "absolute_values = np.absolute(array_a)\n",
    "print(\"\\nElement-wise Absolute Values:\")\n",
    "print(absolute_values)"
   ]
  },
  {
   "cell_type": "code",
   "execution_count": 130,
   "id": "84587958-8cd8-4e86-8f33-77b5b06ba05e",
   "metadata": {},
   "outputs": [
    {
     "name": "stdout",
     "output_type": "stream",
     "text": [
      "\n",
      "Negative of the NumPy Array:\n",
      "[ -4  -8 -12 -16]\n"
     ]
    }
   ],
   "source": [
    "# Compute the negative of the NumPy array\n",
    "negative_array = np.negative(array_a)\n",
    "print(\"\\nNegative of the NumPy Array:\")\n",
    "print(negative_array)"
   ]
  },
  {
   "cell_type": "code",
   "execution_count": 131,
   "id": "60c55fd6-e5ba-44ac-997d-fda85a5d6423",
   "metadata": {},
   "outputs": [
    {
     "name": "stdout",
     "output_type": "stream",
     "text": [
      "\n",
      "2D Array Corresponding to 1D Array:\n",
      "[[  8  16  24  32]\n",
      " [ 16  32  48  64]\n",
      " [ 24  48  72  96]\n",
      " [ 32  64  96 128]]\n"
     ]
    }
   ],
   "source": [
    "# Multiply 2D NumPy array corresponding to 1D array\n",
    "product_2d_array = np.outer(array_a, array_b)\n",
    "print(\"\\n2D Array Corresponding to 1D Array:\")\n",
    "print(product_2d_array)"
   ]
  },
  {
   "cell_type": "code",
   "execution_count": 132,
   "id": "a2314614-2db8-41a8-9d08-a1d5917adb15",
   "metadata": {},
   "outputs": [
    {
     "name": "stdout",
     "output_type": "stream",
     "text": [
      "\n",
      "Inner Product of Arrays:\n",
      "240\n"
     ]
    }
   ],
   "source": [
    "# Computes the inner product of two arrays\n",
    "inner_product = np.inner(array_a, array_b)\n",
    "print(\"\\nInner Product of Arrays:\")\n",
    "print(inner_product)"
   ]
  },
  {
   "cell_type": "code",
   "execution_count": 133,
   "id": "bedebc6c-77ab-4bb9-a871-4659b7800d2c",
   "metadata": {},
   "outputs": [
    {
     "name": "stdout",
     "output_type": "stream",
     "text": [
      "\n",
      "50th Percentile of the NumPy Array:\n",
      "10.0\n"
     ]
    }
   ],
   "source": [
    "# Compute the nth percentile of the NumPy array\n",
    "percentile_value = np.percentile(array_a, 50)  # 50th percentile (median)\n",
    "print(\"\\n50th Percentile of the NumPy Array:\")\n",
    "print(percentile_value)"
   ]
  },
  {
   "cell_type": "code",
   "execution_count": 134,
   "id": "86989bba-230f-44a0-9166-9cd4e6c2db7d",
   "metadata": {},
   "outputs": [
    {
     "name": "stdout",
     "output_type": "stream",
     "text": [
      "\n",
      "2nd Order Discrete Difference:\n",
      "[0 0]\n"
     ]
    }
   ],
   "source": [
    "# Calculate the n-th order discrete difference along the given axis\n",
    "discrete_difference = np.diff(array_a, n=2)\n",
    "print(\"\\n2nd Order Discrete Difference:\")\n",
    "print(discrete_difference)"
   ]
  },
  {
   "cell_type": "code",
   "execution_count": 135,
   "id": "efcf5d97-9105-4fcb-b1e5-fc98104bbfe5",
   "metadata": {},
   "outputs": [
    {
     "name": "stdout",
     "output_type": "stream",
     "text": [
      "\n",
      "Sum of All Columns in 2D Array:\n",
      "[12 15 18]\n"
     ]
    }
   ],
   "source": [
    "# Calculate the sum of all columns in a 2D NumPy array\n",
    "column_sums = np.sum(matrix_2d, axis=0)\n",
    "print(\"\\nSum of All Columns in 2D Array:\")\n",
    "print(column_sums)"
   ]
  },
  {
   "cell_type": "code",
   "execution_count": 136,
   "id": "7bf2bc29-cd4d-4abd-b920-e9aed170af8d",
   "metadata": {},
   "outputs": [
    {
     "name": "stdout",
     "output_type": "stream",
     "text": [
      "\n",
      "Average Values of Two Arrays:\n",
      "[ 3.  6.  9. 12.]\n"
     ]
    }
   ],
   "source": [
    "# Calculate average values of two given NumPy arrays\n",
    "average_arrays = np.mean([array_a, array_b], axis=0)\n",
    "print(\"\\nAverage Values of Two Arrays:\")\n",
    "print(average_arrays)"
   ]
  },
  {
   "cell_type": "code",
   "execution_count": 137,
   "id": "78aac841-b43b-4d5d-bbf1-acba37e4fa61",
   "metadata": {},
   "outputs": [
    {
     "name": "stdout",
     "output_type": "stream",
     "text": [
      "\n",
      "Numerical Negative Values:\n",
      "[ -4.  -8. -12. -16.]\n"
     ]
    }
   ],
   "source": [
    "# Compute numerical negative value for all elements in a given NumPy array\n",
    "numerical_negative_array = np.negative(array_a, dtype=float)\n",
    "print(\"\\nNumerical Negative Values:\")\n",
    "print(numerical_negative_array)"
   ]
  },
  {
   "cell_type": "code",
   "execution_count": 138,
   "id": "562984b1-f07d-46b9-88da-1ea64b0af539",
   "metadata": {},
   "outputs": [
    {
     "name": "stdout",
     "output_type": "stream",
     "text": [
      "\n",
      "Floor Values:\n",
      "[2. 4. 6.]\n",
      "\n",
      "Ceiling Values:\n",
      "[3. 5. 7.]\n",
      "\n",
      "Truncated Values:\n",
      "[2. 4. 6.]\n"
     ]
    }
   ],
   "source": [
    "# Get the floor, ceiling, and truncated values of the elements of a NumPy array\n",
    "floor_values = np.floor([2.3, 4.5, 6.7])\n",
    "ceiling_values = np.ceil([2.3, 4.5, 6.7])\n",
    "truncated_values = np.trunc([2.3, 4.5, 6.7])\n",
    "\n",
    "print(\"\\nFloor Values:\")\n",
    "print(floor_values)\n",
    "print(\"\\nCeiling Values:\")\n",
    "print(ceiling_values)\n",
    "print(\"\\nTruncated Values:\")\n",
    "print(truncated_values)"
   ]
  },
  {
   "cell_type": "code",
   "execution_count": 139,
   "id": "be02f00f-2cc1-4976-a540-708fefc27686",
   "metadata": {},
   "outputs": [
    {
     "name": "stdout",
     "output_type": "stream",
     "text": [
      "\n",
      "Rounded Values to Nearest Integer:\n",
      "[2. 4. 7.]\n"
     ]
    }
   ],
   "source": [
    "# Round elements of the NumPy array to the nearest integer\n",
    "rounded_values = np.round([2.3, 4.5, 6.7])\n",
    "print(\"\\nRounded Values to Nearest Integer:\")\n",
    "print(rounded_values)"
   ]
  },
  {
   "cell_type": "code",
   "execution_count": 140,
   "id": "5abe8c85-8c66-4cad-907a-d1b4016c8cef",
   "metadata": {},
   "outputs": [
    {
     "name": "stdout",
     "output_type": "stream",
     "text": [
      "\n",
      "Matrix with Rounded Values:\n",
      "[[1 2 3]\n",
      " [4 5 6]\n",
      " [7 8 9]]\n"
     ]
    }
   ],
   "source": [
    "# Find the round-off values of the given matrix\n",
    "matrix_rounded_values = np.round(matrix_2d)\n",
    "print(\"\\nMatrix with Rounded Values:\")\n",
    "print(matrix_rounded_values)"
   ]
  },
  {
   "cell_type": "code",
   "execution_count": 141,
   "id": "3cea7a6b-157f-4b3b-ada9-72fc7a066c60",
   "metadata": {},
   "outputs": [
    {
     "name": "stdout",
     "output_type": "stream",
     "text": [
      "\n",
      "Square Root Values:\n",
      "[2.         2.82842712 3.46410162 4.        ]\n"
     ]
    }
   ],
   "source": [
    "# Determine the positive square-root of an array\n",
    "sqrt_values = np.sqrt(array_a)\n",
    "print(\"\\nSquare Root Values:\")\n",
    "print(sqrt_values)"
   ]
  },
  {
   "cell_type": "code",
   "execution_count": 142,
   "id": "6c4779a6-c5e1-4bd1-b051-5d240555c935",
   "metadata": {},
   "outputs": [
    {
     "name": "stdout",
     "output_type": "stream",
     "text": [
      "\n",
      "Einstein's Summation:\n",
      "261\n"
     ]
    }
   ],
   "source": [
    "# Evaluate Einstein’s summation convention of two multidimensional NumPy arrays\n",
    "einstein_sum = np.einsum(\"ij,ji\", matrix_2d, matrix_2d)\n",
    "print(\"\\nEinstein's Summation:\")\n",
    "print(einstein_sum)"
   ]
  },
  {
   "cell_type": "markdown",
   "id": "34bf4f2d-50dd-46b2-a3b9-28e8d8c9587b",
   "metadata": {},
   "source": [
    "<h3>Statistics</h3>"
   ]
  },
  {
   "cell_type": "code",
   "execution_count": 143,
   "id": "c56bd9b8-5d78-4c11-8c15-491d7d79923e",
   "metadata": {},
   "outputs": [
    {
     "name": "stdout",
     "output_type": "stream",
     "text": [
      "Median of Flattened Array:\n",
      "5.0\n"
     ]
    }
   ],
   "source": [
    "# Compute the median of the flattened NumPy array\n",
    "median_value = np.median(matrix_2d.flatten())\n",
    "print(\"Median of Flattened Array:\")\n",
    "print(median_value)\n"
   ]
  },
  {
   "cell_type": "code",
   "execution_count": 144,
   "id": "aee35775-e3fe-4102-9670-863d51ecc9fd",
   "metadata": {},
   "outputs": [
    {
     "name": "stdout",
     "output_type": "stream",
     "text": [
      "\n",
      "Mean of List of NumPy Arrays:\n",
      "[ 3.  6.  9. 12.]\n"
     ]
    }
   ],
   "source": [
    "# Find mean of a list of NumPy arrays\n",
    "list_of_arrays = [array_a, array_b]\n",
    "mean_of_list = np.mean(list_of_arrays, axis=0)\n",
    "print(\"\\nMean of List of NumPy Arrays:\")\n",
    "print(mean_of_list)"
   ]
  },
  {
   "cell_type": "code",
   "execution_count": 145,
   "id": "a3608104-4194-47a8-bcb0-7ba7dbe87782",
   "metadata": {},
   "outputs": [
    {
     "name": "stdout",
     "output_type": "stream",
     "text": [
      "\n",
      "Mean of Array Ignoring NaN Values:\n",
      "3.25\n"
     ]
    }
   ],
   "source": [
    "# Calculate the mean of array ignoring NaN values\n",
    "nan_array = np.array([1.0, 2.5, np.nan, 4.0, 5.5])\n",
    "mean_without_nan = np.nanmean(nan_array)\n",
    "print(\"\\nMean of Array Ignoring NaN Values:\")\n",
    "print(mean_without_nan)"
   ]
  },
  {
   "cell_type": "code",
   "execution_count": 146,
   "id": "888a64b3-5125-4582-a73e-628013801a37",
   "metadata": {},
   "outputs": [
    {
     "name": "stdout",
     "output_type": "stream",
     "text": [
      "\n",
      "Mean Value of Matrix:\n",
      "5.0\n"
     ]
    }
   ],
   "source": [
    "# Get the mean value from a given matrix\n",
    "mean_matrix = np.mean(matrix_2d)\n",
    "print(\"\\nMean Value of Matrix:\")\n",
    "print(mean_matrix)"
   ]
  },
  {
   "cell_type": "code",
   "execution_count": 147,
   "id": "b4be0af5-e8ac-4308-93bc-9aca0da9c174",
   "metadata": {},
   "outputs": [
    {
     "name": "stdout",
     "output_type": "stream",
     "text": [
      "\n",
      "Variance of NumPy Array:\n",
      "20.0\n"
     ]
    }
   ],
   "source": [
    "# Compute the variance of the NumPy array\n",
    "variance_value = np.var(array_a)\n",
    "print(\"\\nVariance of NumPy Array:\")\n",
    "print(variance_value)"
   ]
  },
  {
   "cell_type": "code",
   "execution_count": 148,
   "id": "1ce4b1ee-4f09-4919-81fe-091f29d48489",
   "metadata": {},
   "outputs": [
    {
     "name": "stdout",
     "output_type": "stream",
     "text": [
      "\n",
      "Standard Deviation of NumPy Array:\n",
      "4.47213595499958\n"
     ]
    }
   ],
   "source": [
    "# Compute the standard deviation of the NumPy array\n",
    "std_deviation_value = np.std(array_a)\n",
    "print(\"\\nStandard Deviation of NumPy Array:\")\n",
    "print(std_deviation_value)"
   ]
  },
  {
   "cell_type": "code",
   "execution_count": 149,
   "id": "b88dd50b-f549-4815-940c-6fe7536ad4f7",
   "metadata": {},
   "outputs": [
    {
     "name": "stdout",
     "output_type": "stream",
     "text": [
      "\n",
      "Pearson Correlation Coefficients:\n",
      "[[1. 1.]\n",
      " [1. 1.]]\n"
     ]
    }
   ],
   "source": [
    "# Compute Pearson product-moment correlation coefficients of two given NumPy arrays\n",
    "correlation_coefficient = np.corrcoef(array_a, array_b)\n",
    "print(\"\\nPearson Correlation Coefficients:\")\n",
    "print(correlation_coefficient)"
   ]
  },
  {
   "cell_type": "code",
   "execution_count": 150,
   "id": "17dd897a-4d9f-4a4f-a541-1925e07addd8",
   "metadata": {},
   "outputs": [
    {
     "name": "stdout",
     "output_type": "stream",
     "text": [
      "\n",
      "Mean Across Dimension in 2D Array:\n",
      "[2. 5. 8.]\n"
     ]
    }
   ],
   "source": [
    "# Calculate the mean across dimension in a 2D NumPy array\n",
    "mean_across_dimension = np.mean(matrix_2d, axis=1)\n",
    "print(\"\\nMean Across Dimension in 2D Array:\")\n",
    "print(mean_across_dimension)"
   ]
  },
  {
   "cell_type": "code",
   "execution_count": 151,
   "id": "632e392a-0a34-482e-93b0-ffd1fa9d1939",
   "metadata": {},
   "outputs": [
    {
     "name": "stdout",
     "output_type": "stream",
     "text": [
      "\n",
      "Average Value:\n",
      "10.0\n",
      "Variance Value:\n",
      "20.0\n",
      "Standard Deviation Value:\n",
      "4.47213595499958\n"
     ]
    }
   ],
   "source": [
    "# Calculate the average, variance, and standard deviation in Python using NumPy\n",
    "average_value = np.average(array_a)\n",
    "variance_value = np.var(array_a)\n",
    "std_deviation_value = np.std(array_a)\n",
    "\n",
    "print(\"\\nAverage Value:\")\n",
    "print(average_value)\n",
    "print(\"Variance Value:\")\n",
    "print(variance_value)\n",
    "print(\"Standard Deviation Value:\")\n",
    "print(std_deviation_value)"
   ]
  },
  {
   "cell_type": "code",
   "execution_count": 156,
   "id": "716bb6d6-b902-4e9b-b291-f1377abc26ad",
   "metadata": {},
   "outputs": [],
   "source": [
    "# Describe a NumPy Array in Python\n",
    "# array_description = np.array([1, 2, 3, 4, 5])\n",
    "# array_stats = np.describe(array_description)\n",
    "# print(\"\\nDescriptive Statistics of NumPy Array:\")\n",
    "# print(array_stats)"
   ]
  },
  {
   "cell_type": "markdown",
   "id": "ce99db0a-4f8e-44af-afd6-0bb0429c956d",
   "metadata": {},
   "source": [
    "<h3>Questions on Polynomial</h3>"
   ]
  },
  {
   "cell_type": "code",
   "execution_count": 157,
   "id": "00e81d27-f612-4a75-8fd3-0b0d49088590",
   "metadata": {},
   "outputs": [],
   "source": [
    "# Define polynomials\n",
    "poly1 = np.poly1d([1, 2, 3])  # Coefficients represent the polynomial: 1*x^2 + 2*x + 3\n",
    "poly2 = np.poly1d([4, 5, 6])  # Coefficients represent the polynomial: 4*x^2 + 5*x + 6"
   ]
  },
  {
   "cell_type": "code",
   "execution_count": 158,
   "id": "8d762c38-b677-4d39-99d3-fba3d2a7664d",
   "metadata": {},
   "outputs": [
    {
     "name": "stdout",
     "output_type": "stream",
     "text": [
      "Sum of Polynomials:    2\n",
      "5 x + 7 x + 9\n"
     ]
    }
   ],
   "source": [
    "# Add one polynomial to another using NumPy\n",
    "sum_poly = np.polyadd(poly1, poly2)\n",
    "print(\"Sum of Polynomials:\", sum_poly)"
   ]
  },
  {
   "cell_type": "code",
   "execution_count": 159,
   "id": "059c455e-924c-47e0-ad14-9b3e0983ed2b",
   "metadata": {},
   "outputs": [
    {
     "name": "stdout",
     "output_type": "stream",
     "text": [
      "Difference of Polynomials:     2\n",
      "-3 x - 3 x - 3\n"
     ]
    }
   ],
   "source": [
    "# Subtract one polynomial from another using NumPy\n",
    "diff_poly = np.polysub(poly1, poly2)\n",
    "print(\"Difference of Polynomials:\", diff_poly)"
   ]
  },
  {
   "cell_type": "code",
   "execution_count": 160,
   "id": "f42a98dd-a454-4448-92d7-947b595bdfb6",
   "metadata": {},
   "outputs": [
    {
     "name": "stdout",
     "output_type": "stream",
     "text": [
      "Product of Polynomials:    4      3      2\n",
      "4 x + 13 x + 28 x + 27 x + 18\n"
     ]
    }
   ],
   "source": [
    "# Multiply a polynomial by another using NumPy\n",
    "prod_poly = np.polymul(poly1, poly2)\n",
    "print(\"Product of Polynomials:\", prod_poly)"
   ]
  },
  {
   "cell_type": "code",
   "execution_count": 161,
   "id": "2b90c25e-db58-4fff-a835-9370f7702f52",
   "metadata": {},
   "outputs": [
    {
     "name": "stdout",
     "output_type": "stream",
     "text": [
      "Quotient of Polynomials:  \n",
      "0.25\n",
      "Remainder of Polynomials:  \n",
      "0.75 x + 1.5\n"
     ]
    }
   ],
   "source": [
    "# Divide one polynomial by another using NumPy\n",
    "quot_poly, remainder_poly = np.polydiv(poly1, poly2)\n",
    "print(\"Quotient of Polynomials:\", quot_poly)\n",
    "print(\"Remainder of Polynomials:\", remainder_poly)"
   ]
  },
  {
   "cell_type": "code",
   "execution_count": 162,
   "id": "62fa7ead-2515-426a-a55c-7b2afd6db682",
   "metadata": {},
   "outputs": [
    {
     "name": "stdout",
     "output_type": "stream",
     "text": [
      "Roots of Polynomial 1: [-1.+1.41421356j -1.-1.41421356j]\n",
      "Roots of Polynomial 2: [-0.625+1.05326872j -0.625-1.05326872j]\n"
     ]
    }
   ],
   "source": [
    "# Find the roots of the polynomials using NumPy\n",
    "roots_poly1 = np.roots(poly1)\n",
    "roots_poly2 = np.roots(poly2)\n",
    "print(\"Roots of Polynomial 1:\", roots_poly1)\n",
    "print(\"Roots of Polynomial 2:\", roots_poly2)"
   ]
  },
  {
   "cell_type": "markdown",
   "id": "3809cb74-26e7-4ad8-9625-2a4d84e0ec1f",
   "metadata": {},
   "source": [
    "<h3>NumPy Strings</h3>"
   ]
  },
  {
   "cell_type": "code",
   "execution_count": 167,
   "id": "0219cc8b-7506-4df4-a1bf-c80512b2fed1",
   "metadata": {},
   "outputs": [],
   "source": [
    "# Create a NumPy array of strings\n",
    "string_array = np.array([\"apple\", \"banana\", \"cherry\"])"
   ]
  },
  {
   "cell_type": "code",
   "execution_count": 168,
   "id": "fec48995-d67a-4e83-9d67-d8f19e7e3afb",
   "metadata": {},
   "outputs": [
    {
     "name": "stdout",
     "output_type": "stream",
     "text": [
      "Repeated Array:\n",
      "['apple' 'apple' 'banana' 'banana' 'cherry' 'cherry']\n"
     ]
    }
   ],
   "source": [
    "# Repeat all the elements of a NumPy array of strings\n",
    "repeated_array = np.repeat(string_array, 2)\n",
    "print(\"Repeated Array:\")\n",
    "print(repeated_array)"
   ]
  },
  {
   "cell_type": "code",
   "execution_count": 169,
   "id": "001c54e2-3cec-4bdc-82ad-babc6bd3e858",
   "metadata": {},
   "outputs": [
    {
     "name": "stdout",
     "output_type": "stream",
     "text": [
      "\n",
      "Split Array:\n",
      "[list(['apple']) list(['banana']) list(['cherry'])]\n"
     ]
    }
   ],
   "source": [
    "# Split the element of a given NumPy array with spaces\n",
    "split_array = np.char.split(string_array)\n",
    "print(\"\\nSplit Array:\")\n",
    "print(split_array)"
   ]
  },
  {
   "cell_type": "code",
   "execution_count": 170,
   "id": "c5e4db50-5cc3-4fe3-a12c-386f5afa3709",
   "metadata": {},
   "outputs": [
    {
     "name": "stdout",
     "output_type": "stream",
     "text": [
      "\n",
      "Array with Space Between Characters:\n",
      "['a p p l e' 'b a n a n a' 'c h e r r y']\n"
     ]
    }
   ],
   "source": [
    "# Insert a space between characters of all the elements of a given NumPy array\n",
    "joined_array = np.char.join(' ', string_array)\n",
    "print(\"\\nArray with Space Between Characters:\")\n",
    "print(joined_array)"
   ]
  },
  {
   "cell_type": "code",
   "execution_count": 171,
   "id": "451cf220-1652-44dd-b26a-d87b71d492eb",
   "metadata": {},
   "outputs": [
    {
     "name": "stdout",
     "output_type": "stream",
     "text": [
      "\n",
      "Length of Each String Element:\n",
      "[5 6 6]\n"
     ]
    }
   ],
   "source": [
    "# Find the length of each string element in the NumPy array\n",
    "lengths_array = np.char.str_len(string_array)\n",
    "print(\"\\nLength of Each String Element:\")\n",
    "print(lengths_array)"
   ]
  },
  {
   "cell_type": "code",
   "execution_count": 172,
   "id": "83a7a255-07d7-4624-850c-8af6054d2386",
   "metadata": {},
   "outputs": [
    {
     "name": "stdout",
     "output_type": "stream",
     "text": [
      "\n",
      "Swapped Case Array:\n",
      "['APPLE' 'BANANA' 'CHERRY']\n"
     ]
    }
   ],
   "source": [
    "# Swap the case of an array of strings\n",
    "swapped_case_array = np.char.swapcase(string_array)\n",
    "print(\"\\nSwapped Case Array:\")\n",
    "print(swapped_case_array)"
   ]
  },
  {
   "cell_type": "code",
   "execution_count": 173,
   "id": "e5fda76d-d78e-44ee-9b68-32d0a9fd817e",
   "metadata": {},
   "outputs": [
    {
     "name": "stdout",
     "output_type": "stream",
     "text": [
      "\n",
      "Uppercase Array:\n",
      "['APPLE' 'BANANA' 'CHERRY']\n"
     ]
    }
   ],
   "source": [
    "# Change the case to uppercase of elements of an array\n",
    "uppercase_array = np.char.upper(string_array)\n",
    "print(\"\\nUppercase Array:\")\n",
    "print(uppercase_array)"
   ]
  },
  {
   "cell_type": "code",
   "execution_count": 174,
   "id": "de56b027-83b3-425e-854d-8b74a5eeace8",
   "metadata": {},
   "outputs": [
    {
     "name": "stdout",
     "output_type": "stream",
     "text": [
      "\n",
      "Lowercase Array:\n",
      "['apple' 'banana' 'cherry']\n"
     ]
    }
   ],
   "source": [
    "# Change the case to lowercase of elements of an array\n",
    "lowercase_array = np.char.lower(string_array)\n",
    "print(\"\\nLowercase Array:\")\n",
    "print(lowercase_array)"
   ]
  },
  {
   "cell_type": "code",
   "execution_count": 175,
   "id": "0813b36f-3236-48a7-b16f-ce43f578dfb0",
   "metadata": {},
   "outputs": [
    {
     "name": "stdout",
     "output_type": "stream",
     "text": [
      "\n",
      "Array Joined by Separator:\n",
      "['a_p_p_l_e' 'b_a_n_a_n_a' 'c_h_e_r_r_y']\n"
     ]
    }
   ],
   "source": [
    "# Join String by a separator\n",
    "separator = \"_\"\n",
    "joined_with_separator = np.char.join(separator, string_array)\n",
    "print(\"\\nArray Joined by Separator:\")\n",
    "print(joined_with_separator)"
   ]
  },
  {
   "cell_type": "code",
   "execution_count": 176,
   "id": "083c33f4-8372-4c86-9927-858ae7b7f659",
   "metadata": {},
   "outputs": [
    {
     "name": "stdout",
     "output_type": "stream",
     "text": [
      "\n",
      "Boolean Array for Match:\n",
      "[ True False  True]\n"
     ]
    }
   ],
   "source": [
    "# Check if two same-shaped string arrays match one by one\n",
    "array1 = np.array([\"apple\", \"banana\", \"cherry\"])\n",
    "array2 = np.array([\"apple\", \"orange\", \"cherry\"])\n",
    "match_array = np.char.equal(array1, array2)\n",
    "print(\"\\nBoolean Array for Match:\")\n",
    "print(match_array)"
   ]
  },
  {
   "cell_type": "code",
   "execution_count": 177,
   "id": "a8799d91-b285-4b20-b13f-ee5634fe4b82",
   "metadata": {},
   "outputs": [
    {
     "name": "stdout",
     "output_type": "stream",
     "text": [
      "\n",
      "Count of Substring:\n",
      "[0 1 0]\n"
     ]
    }
   ],
   "source": [
    "# Count the number of substrings in an array\n",
    "substring_array = np.array([\"abc\", \"defg\", \"hij\"])\n",
    "count_substring = np.char.count(substring_array, \"de\")\n",
    "print(\"\\nCount of Substring:\")\n",
    "print(count_substring)"
   ]
  },
  {
   "cell_type": "code",
   "execution_count": 178,
   "id": "e004f52d-33f5-46b5-820f-6d636be8ff55",
   "metadata": {},
   "outputs": [
    {
     "name": "stdout",
     "output_type": "stream",
     "text": [
      "\n",
      "Index of Substring:\n",
      "[-1  1 -1]\n"
     ]
    }
   ],
   "source": [
    "# Find the lowest index of the substring in an array\n",
    "index_substring = np.char.find(substring_array, \"e\")\n",
    "print(\"\\nIndex of Substring:\")\n",
    "print(index_substring)"
   ]
  },
  {
   "cell_type": "code",
   "execution_count": 179,
   "id": "67375311-83e0-487b-baa6-1913d35a0b9e",
   "metadata": {},
   "outputs": [
    {
     "name": "stdout",
     "output_type": "stream",
     "text": [
      "\n",
      "Boolean Array for Values Ending with 'y':\n",
      "[False False  True]\n"
     ]
    }
   ],
   "source": [
    "# Get the boolean array when values end with a particular character\n",
    "endswith_char = np.char.endswith(string_array, \"y\")\n",
    "print(\"\\nBoolean Array for Values Ending with 'y':\")\n",
    "print(endswith_char)\n"
   ]
  },
  {
   "cell_type": "code",
   "execution_count": 180,
   "id": "7055f28c-0135-4bcf-8449-77affc9a2cf1",
   "metadata": {},
   "outputs": [
    {
     "name": "stdout",
     "output_type": "stream",
     "text": [
      "\n",
      "NumPy Array from Dictionary:\n",
      "[['a' '1']\n",
      " ['b' '2']\n",
      " ['c' '3']]\n"
     ]
    }
   ],
   "source": [
    "# Convert a Python dictionary to a NumPy array\n",
    "dictionary = {'a': 1, 'b': 2, 'c': 3}\n",
    "dict_array = np.array(list(dictionary.items()))\n",
    "print(\"\\nNumPy Array from Dictionary:\")\n",
    "print(dict_array)"
   ]
  },
  {
   "cell_type": "code",
   "execution_count": 181,
   "id": "64683be0-1a8e-48f9-b0fe-ca561370452c",
   "metadata": {},
   "outputs": [
    {
     "name": "stdout",
     "output_type": "stream",
     "text": [
      "\n",
      "NumPy Array Saved to CSV File\n"
     ]
    }
   ],
   "source": [
    "# Convert a NumPy array into a CSV file\n",
    "np.savetxt('output.csv', string_array, delimiter=',', fmt='%s')\n",
    "print(\"\\nNumPy Array Saved to CSV File\")"
   ]
  },
  {
   "cell_type": "code",
   "execution_count": 182,
   "id": "88b42510-b7fb-45f8-b748-2d1a8268d26f",
   "metadata": {},
   "outputs": [
    {
     "name": "stdout",
     "output_type": "stream",
     "text": [
      "\n",
      "Loaded Data from CSV File:\n",
      "['apple' 'banana' 'cherry']\n"
     ]
    }
   ],
   "source": [
    "# Load data from a text file\n",
    "loaded_data = np.loadtxt('output.csv', delimiter=',', dtype=str)\n",
    "print(\"\\nLoaded Data from CSV File:\")\n",
    "print(loaded_data)"
   ]
  },
  {
   "cell_type": "markdown",
   "id": "a7c1f24f-0534-42f7-95be-48e294d8b94d",
   "metadata": {},
   "source": [
    "<h3>Matplotlib</h3>"
   ]
  },
  {
   "cell_type": "code",
   "execution_count": 185,
   "id": "78045865-a3f0-4873-a052-34bdb6de0f93",
   "metadata": {},
   "outputs": [
    {
     "data": {
      "image/png": "[encoded data removed]",
      "text/plain": [
       "<Figure size 640x480 with 1 Axes>"
      ]
     },
     "metadata": {},
     "output_type": "display_data"
    }
   ],
   "source": [
    "# Plot line graph from NumPy array\n",
    "x_values = np.array([1, 2, 3, 4])\n",
    "y_values = np.array([5, 6, 7, 8])\n",
    "plt.plot(x_values, y_values)\n",
    "plt.title('Line Graph from NumPy Array')\n",
    "plt.xlabel('X-axis')\n",
    "plt.ylabel('Y-axis')\n",
    "plt.show()\n"
   ]
  },
  {
   "cell_type": "code",
   "execution_count": 186,
   "id": "b2aa7ea1-5556-4b0b-b2eb-9ab18a9aaac4",
   "metadata": {},
   "outputs": [
    {
     "data": {
      "image/png": "[encoded data removed]",
      "text/plain": [
       "<Figure size 640x480 with 1 Axes>"
      ]
     },
     "metadata": {},
     "output_type": "display_data"
    }
   ],
   "source": [
    "# Create Histogram using NumPy\n",
    "data_for_histogram = np.array([1, 2, 2, 3, 3, 3, 4, 4, 5])\n",
    "plt.hist(data_for_histogram, bins=np.arange(1, 7) - 0.5, edgecolor='black')\n",
    "plt.title('Histogram from NumPy Array')\n",
    "plt.xlabel('Values')\n",
    "plt.ylabel('Frequency')\n",
    "plt.show()"
   ]
  },
  {
   "cell_type": "code",
   "execution_count": null,
   "id": "338c3d3b-33b1-42c9-9031-0d7631071cc5",
   "metadata": {},
   "outputs": [],
   "source": []
  }
 ],
 "metadata": {
  "kernelspec": {
   "display_name": "Python 3 (ipykernel)",
   "language": "python",
   "name": "python3"
  },
  "language_info": {
   "codemirror_mode": {
    "name": "ipython",
    "version": 3
   },
   "file_extension": ".py",
   "mimetype": "text/x-python",
   "name": "python",
   "nbconvert_exporter": "python",
   "pygments_lexer": "ipython3",
   "version": "3.10.12"
  }
 },
 "nbformat": 4,
 "nbformat_minor": 5
}
